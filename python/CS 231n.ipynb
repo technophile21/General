{
 "cells": [
  {
   "cell_type": "markdown",
   "metadata": {},
   "source": [
    "# This Notebook will be for writing codes for basic ML like loss functions, optimization functions, etc.. "
   ]
  },
  {
   "cell_type": "markdown",
   "metadata": {},
   "source": [
    "### SVM Loss "
   ]
  },
  {
   "cell_type": "markdown",
   "metadata": {},
   "source": [
    "Required:\n",
    "1. Weight matrix\n",
    "2. Sample input data\n",
    "3. bias vector\n",
    "\n",
    "Methods:\n",
    "1. Loss calculate:\n",
    "\n",
    "    a. Non - vectorized\n",
    "    b. Half - Vectorized\n",
    "    c. Full - Vectorized"
   ]
  },
  {
   "cell_type": "code",
   "execution_count": 80,
   "metadata": {
    "collapsed": true
   },
   "outputs": [],
   "source": [
    "import numpy as np"
   ]
  },
  {
   "cell_type": "code",
   "execution_count": 81,
   "metadata": {
    "collapsed": true
   },
   "outputs": [],
   "source": [
    "def Debug(desc, value):\n",
    "    print \"\\n\" + desc +  \"\\n\"\n",
    "    print value"
   ]
  },
  {
   "cell_type": "code",
   "execution_count": 85,
   "metadata": {},
   "outputs": [],
   "source": [
    "# Inputs: \n",
    "# @y : 1 x N (ground truth labels)\n",
    "# @wts : C x D (class x feature dim)\n",
    "# @datapts : => D x N (features x data points)\n",
    "# @bias : C x 1\n",
    "\n",
    "# output:\n",
    "# loss : SVM loss\n",
    "\n",
    "# TODO: \n",
    "# 1. bias can be incorporated inside wts itself by creating one more column vector and corresponding change in datapts.\n",
    "\n",
    "def svm_loss(wts, datapts, y, bias):\n",
    "    # TODO: check dim of matrices\n",
    "    scores = np.add((np.dot(wts, datapts)), bias);  # bias will be broadcasted\n",
    "    Debug(\"Scores: \", scores)\n",
    "    \n",
    "    loss_vec = np.zeros(y.size)\n",
    "    delta = 1.0\n",
    "    \n",
    "    ## No vectorization ##\n",
    "    '''\n",
    "    # loop for each data point\n",
    "    for i in range(y.size):\n",
    "        loss_i = 0;\n",
    "        correct_label = y[i]\n",
    "        correct_class_score = scores[correct_label, i]\n",
    "\n",
    "        # loop for number of classes\n",
    "        for j in range(scores.shape[0]):\n",
    "            if(correct_label != j):\n",
    "                hinge_loss_i_j = max(scores[j, i] - correct_class_score + delta, 0)\n",
    "                loss_i += hinge_loss_i_j       \n",
    "        \n",
    "        loss_vec[i] = loss_i\n",
    "    '''\n",
    "    \n",
    "    ## Half - vectorized  ##\n",
    "    '''\n",
    "    for i in range(y.size):\n",
    "        loss_i = 0;\n",
    "        correct_class_score = scores[y[i], i]\n",
    "                \n",
    "        loss_margins = np.maximum(0, scores[:, i] - correct_class_score + delta)\n",
    "        loss_margins[y[i]] = 0   # for correct class margin is 0\n",
    "        print \"\\nLoss Margin: \\n\"\n",
    "        print loss_margins\n",
    "        \n",
    "        loss_i = np.sum(loss_margins)        \n",
    "        \n",
    "        loss_vec[i] = loss_i\n",
    "    '''\n",
    "    \n",
    "    ##  FULL VECTORIZED ##\n",
    "    ''\n",
    "    #scores_mat = np.repeat(scores[:, np.newaxis], scores.size, axis=1)\n",
    "    #print \"\\nScores Repeated: \\n\"\n",
    "    #print scores_mat\n",
    "    \n",
    "    correct_score_mat = scores[y, np.arange(scores.shape[1])]   # 1 x N\n",
    "    Debug(\"Correct Label Scores:\", correct_score_mat)\n",
    "    \n",
    "    loss_margin = np.maximum(scores - correct_score_mat + delta, 0)\n",
    "    loss_margin[y, np.arange(loss_margin.shape[1])] = 0     # Making loss of actual labels 0\n",
    "    Debug(\"Loss Margin: \", loss_margin)\n",
    "    \n",
    "    loss_vec = np.sum(loss_margin, axis=0)\n",
    "    ''\n",
    "    \n",
    "    \n",
    "    return loss_vec"
   ]
  },
  {
   "cell_type": "code",
   "execution_count": 86,
   "metadata": {},
   "outputs": [],
   "source": [
    "def test_svm_loss():\n",
    "    #wts = np.random.random((3,4))\n",
    "    wts = np.array([ [  1,   5,   9,   9],\n",
    "                     [  6,   3,   3,   6],\n",
    "                     [  7,   5,   8,   9]\n",
    "                    ])\n",
    "    Debug(\"Weights:\", wts)\n",
    "    \n",
    "    datapts = np.array([[2, 1, 4, 3],\n",
    "                       [5, 8, 2, 9],\n",
    "                       [11, 4, 1, 6],\n",
    "                       [7, 3, 6, 5]\n",
    "                       ])\n",
    "    Debug(\"Data:\", datapts)\n",
    "    \n",
    "    bias = 0 #np.ones(datapts.size - 1)\n",
    "    \n",
    "    y = np.array([1, 0, 2, 1])\n",
    "    \n",
    "    loss = svm_loss(wts, datapts, y, bias)\n",
    "    Debug(\"Loss:\", loss)\n"
   ]
  },
  {
   "cell_type": "code",
   "execution_count": 87,
   "metadata": {},
   "outputs": [
    {
     "name": "stdout",
     "output_type": "stream",
     "text": [
      "\n",
      "Weights:\n",
      "\n",
      "[[1 5 9 9]\n",
      " [6 3 3 6]\n",
      " [7 5 8 9]]\n",
      "\n",
      "Data:\n",
      "\n",
      "[[ 2  1  4  3]\n",
      " [ 5  8  2  9]\n",
      " [11  4  1  6]\n",
      " [ 7  3  6  5]]\n",
      "\n",
      "Scores: \n",
      "\n",
      "[[189 104  77 147]\n",
      " [102  60  69  93]\n",
      " [190 106 100 159]]\n",
      "\n",
      "Correct Label Scores:\n",
      "\n",
      "[102 104 100  93]\n",
      "\n",
      "Loss Margin: \n",
      "\n",
      "[[ 88.   0.   0.  55.]\n",
      " [  0.   0.   0.   0.]\n",
      " [ 89.   3.   0.  67.]]\n",
      "\n",
      "Loss:\n",
      "\n",
      "[ 177.    3.    0.  122.]\n"
     ]
    }
   ],
   "source": [
    "test_svm_loss()"
   ]
  },
  {
   "cell_type": "code",
   "execution_count": 6,
   "metadata": {},
   "outputs": [
    {
     "data": {
      "text/plain": [
       "array([[ 0.21390293,  0.20527074],\n",
       "       [ 0.03523754,  0.59695323],\n",
       "       [ 0.55960165,  0.95692197]])"
      ]
     },
     "execution_count": 6,
     "metadata": {},
     "output_type": "execute_result"
    }
   ],
   "source": []
  },
  {
   "cell_type": "code",
   "execution_count": null,
   "metadata": {
    "collapsed": true
   },
   "outputs": [],
   "source": []
  }
 ],
 "metadata": {
  "kernelspec": {
   "display_name": "Python [conda env:theano27]",
   "language": "python",
   "name": "conda-env-theano27-py"
  },
  "language_info": {
   "codemirror_mode": {
    "name": "ipython",
    "version": 2
   },
   "file_extension": ".py",
   "mimetype": "text/x-python",
   "name": "python",
   "nbconvert_exporter": "python",
   "pygments_lexer": "ipython2",
   "version": "2.7.13"
  }
 },
 "nbformat": 4,
 "nbformat_minor": 2
}
